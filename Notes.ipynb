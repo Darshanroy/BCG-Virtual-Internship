{
 "cells": [
  {
   "cell_type": "markdown",
   "id": "ad4c5cdd",
   "metadata": {},
   "source": [
    "Key roles and responsibilities of a Data Scientist at BCG GAMMA BCG GAMMA is transforming businesses using data science to help companies generate competitive advantage. To do this, we typically follow a 5-step methodology:\n",
    "\n",
    "1. Business understanding & problem framing: what is the context of this problem and why are they trying to solve it?\n",
    " \n",
    "2. Exploratory data analysis & data cleaning: what data are we working with, what does it look like and how can we make it better?\n",
    " \n",
    "3. Feature engineering: can we enrich this dataset using our own expertise or third party information?\n",
    " \n",
    "4. Modeling and evaluation: can we use this dataset to accurately make predictions? If so, are they reliable?\n",
    " \n",
    "5. Insights & Recommendations: how we can communicate the value of these predictions by explaining them in a way that matters to the business?\n",
    "\n",
    "\n",
    "The tasks in this program will be focused on using different parts of this methodology at different times, so you’ll get a taste of the overall process.\n",
    "\n",
    "It’s a really exciting time to be working with BCG GAMMA as more clients are needing data to drive key decisions. So, let’s check out what case you’ll be working on!"
   ]
  },
  {
   "cell_type": "markdown",
   "id": "37bfe2fb",
   "metadata": {},
   "source": [
    "#  The brief from PowerCo\n",
    "The Associate Director (AD) of the Data Science team held a team meeting to discuss the client brief. You’ll be working closely with Estelle Altazin, a senior data scientist on your team.\n",
    "\n",
    "Here are the key takeaways from the meeting:\n",
    "\n",
    "1. Your client is PowerCo - a major gas and electricity utility that supplies to small and medium sized enterprises.\n",
    "2. The energy market has had a lot of change in recent years and there are more options than ever for customers to choose from.\n",
    "3. PowerCo are concerned about their customers leaving for better offers from other energy providers. When a customer leaves to 4. use another service provider, this is called churn.\n",
    "5. This is becoming a big issue for PowerCo and they have engaged BCG to help diagnose the reason why their customers are churning.\n",
    "\n",
    "During the meeting your AD discussed some potential reasons for this churn, one being how “sensitive” the price is. In other words, how much is price a factor in a customer’s choice to stay with or leave PowerCo?\n",
    "\n",
    "So, now it’s time for you to investigate this hypothesis."
   ]
  },
  {
   "cell_type": "markdown",
   "id": "9b5b7114",
   "metadata": {},
   "source": [
    "# Your task - we need to understand PowerCo’s problem in detail\n",
    "First things first, you and Estelle need to understand the problem that PowerCo is facing at a deeper level and plan how you’ll tackle it. If you recall the 5 steps in the Data Science methodology, this is called “business understanding & problem framing”.\n",
    "\n",
    "Your AD wants you and Estelle to email him by COB today outlining:\n",
    "\n",
    "the data that we’ll need from the client, and\n",
    "the techniques we’ll use to investigate the issue.\n",
    "\n",
    "Use the text field below to write your email, here’s what you’ll need to include:\n",
    "\n",
    "You must formulate PowerCo’s issue as a problem using the 5 step data science process and lay out the major steps needed to test it.\n",
    "\n",
    "1. What do you think are the key reasons for a customer deciding to stay with or switch energy providers? For example: price, is it clean energy, customer service, location etc.\n",
    "2. What data do you think would be useful in order to investigate these key reasons? E.g. customer purchasing trends over past 5 years, location of business etc.\n",
    "3. If you were to get this data, how could you analyse or visualize it to test whether these reasons may have an impact on churn?"
   ]
  },
  {
   "cell_type": "markdown",
   "id": "7591003d",
   "metadata": {},
   "source": [
    "## 1. What do you think are the key reasons for a customer deciding to stay with or switch energy providers? "
   ]
  },
  {
   "cell_type": "markdown",
   "id": "a6298f50",
   "metadata": {},
   "source": [
    "1. There must be price variation\n",
    "2. There must be varitaion in quality of the energy may be clean energy\n",
    "3. Variation in customer services\n",
    "4. Esay Accessible of the resourse\n",
    "5. Using same resource form a long period but no rewards or discounts\n",
    "6. offering more services at low cost\n",
    "7. Poor maintance \n",
    "8. Contract Terms and Flexibility\n",
    "9. Smart Technology Integration\n",
    "10. Community Engagement "
   ]
  },
  {
   "cell_type": "markdown",
   "id": "e7da18f3",
   "metadata": {},
   "source": [
    "## 2. What data do you think would be useful in order to investigate these key reasons? E.g. customer purchasing trends over past 5 years, location of business etc."
   ]
  },
  {
   "cell_type": "markdown",
   "id": "98d78cb9",
   "metadata": {},
   "source": [
    "1. Data about the oppenent and our company data\n",
    "2. customers past data to analyse the info and draw insights\n",
    "3. If any user expirence realted data\n",
    "4. Offers data"
   ]
  },
  {
   "cell_type": "markdown",
   "id": "e6e61fec",
   "metadata": {},
   "source": [
    "## 3. If you were to get this data, how could you analyse or visualize it to test whether these reasons may have an impact on churn?"
   ]
  },
  {
   "cell_type": "markdown",
   "id": "14ae57e5",
   "metadata": {},
   "source": [
    "1. performs the statistical analyis like : Mean,median,std\n",
    "2. univarint analysis and multivarint analysis extarct : Most , trend \n",
    "3. Feature Engineering\n",
    "4. Hypothsis testing on diff columns\n",
    "5. Making model with test&traning (Cluster analysis) and SHAP to explaine\n",
    "6. Analysis of churn rate"
   ]
  },
  {
   "cell_type": "markdown",
   "id": "49891cf8",
   "metadata": {},
   "source": [
    "# EMAIL"
   ]
  },
  {
   "cell_type": "markdown",
   "id": "267e4bf5",
   "metadata": {},
   "source": [
    "Subject: Business Understanding & Problem Framing - Investigation Plan for PowerCo's Churn Issue\n",
    "\n",
    "Dear [Associate Director's Name],\n",
    "\n",
    "I hope this email finds you well. Estelle and I have thoroughly reviewed PowerCo's churn issue and outlined a plan to investigate it using the 5-step data science methodology. Here are the major steps we propose:\n",
    "\n",
    "### Problem Formulation:\n",
    "**Business Understanding & Problem Framing**\n",
    "\n",
    "PowerCo is facing a significant challenge with customer churn, and our goal is to understand the key reasons behind customers deciding to stay or switch energy providers. We will approach this using the following steps:\n",
    "\n",
    "1. **Key Reasons for Customer Decision:**\n",
    "    - Price Sensitivity\n",
    "    - Energy Quality (Clean Energy)\n",
    "    - Customer Service\n",
    "    - Location Accessibility\n",
    "    - Reward Programs and Discounts\n",
    "    - Service Offerings and Contract Terms\n",
    "    - Maintenance Quality\n",
    "    - Smart Technology Integration\n",
    "    - Community Engagement\n",
    "\n",
    "2. **Data Needed:**\n",
    "    - Customer purchasing trends over the past 5 years\n",
    "    - Geographic location of businesses\n",
    "    - Customer service logs and feedback\n",
    "    - Energy usage patterns and preferences\n",
    "    - Contract terms and flexibility data\n",
    "    - Smart technology adoption data\n",
    "    - Community engagement records\n",
    "    - Competitor data for benchmarking\n",
    "\n",
    "3. **Analysis and Visualization Techniques:**\n",
    "    - **Statistical Analysis:**\n",
    "        - Mean, Median, Standard Deviation to understand central tendencies.\n",
    "        - Univariate and Multivariate Analysis to explore distributions and relationships.\n",
    "    \n",
    "    - **Feature Engineering:**\n",
    "        - Create new features to capture additional insights from the existing data.\n",
    "    \n",
    "    - **Hypothesis Testing:**\n",
    "        - Test hypotheses related to the impact of various factors on churn.\n",
    "    \n",
    "    - **Model Building:**\n",
    "        - Utilize cluster analysis to identify customer segments with distinct behaviors.\n",
    "        - Evaluate the model using training and testing datasets.\n",
    "        - Leverage SHAP (SHapley Additive exPlanations) values to explain feature importance.\n",
    "\n",
    "    - **Visualization:**\n",
    "        - Visualize trends and patterns using line charts, bar graphs, and heatmaps.\n",
    "        - Present geographical insights using maps.\n",
    "        - Use cluster visualizations to showcase distinct customer segments.\n",
    "\n",
    "### Next Steps:\n",
    "We plan to start by acquiring the necessary data from PowerCo, conduct exploratory data analysis, and proceed with in-depth analyses using the outlined techniques. Our goal is to provide actionable insights that can help PowerCo address the issue of customer churn effectively.\n",
    "\n",
    "Please feel free to provide any additional guidance or specific preferences you may have for this analysis. We are committed to delivering valuable insights that align with BCG GAMMA's standards.\n",
    "\n",
    "Best regards,\n",
    "\n",
    "[Your Name]\n",
    "[Estelle's Name]\n",
    "[Your Contact Information]"
   ]
  },
  {
   "cell_type": "markdown",
   "id": "7986a808",
   "metadata": {},
   "source": [
    "## What you'll learn\n",
    "How to investigate whether price sensitivity is the most influential factor for a customer churning\n",
    "How to use frameworks to conduct exploratory data analysis\n",
    "## What you'll do\n",
    "Use python to analyze client data\n",
    "Create data visualizations to help you interpret key trends"
   ]
  },
  {
   "cell_type": "markdown",
   "id": "dfa27292",
   "metadata": {},
   "source": [
    "# The AD would like you to investigate whether price sensitivity is the most influential factor for a customer churning, and if not, to what extent does price sensitivity influence churn."
   ]
  },
  {
   "cell_type": "markdown",
   "id": "0101b200",
   "metadata": {},
   "source": [
    "What is price sensitivity?\n",
    "Price sensitivity is the degree to which demand changes when the cost of a product or service changes.\n",
    "\n",
    "In the context of PowerCo, the “demand” refers to the demand for energy consumption.\n",
    "\n",
    "Price sensitivity is commonly measured using the price elasticity of demand, which states that some consumers won't pay more if a lower-priced option is available.\n",
    "\n",
    "\n",
    "What is price elasticity of demand?\n",
    "\n",
    "Price elasticity of demand is a measurement of the change in consumption of a product in relation to a change in its price\n",
    "\n",
    "Complete the quick knowledge check and move onto your exploratory data analysis."
   ]
  },
  {
   "cell_type": "code",
   "execution_count": null,
   "id": "014982c6",
   "metadata": {},
   "outputs": [],
   "source": []
  }
 ],
 "metadata": {
  "kernelspec": {
   "display_name": "Python 3 (ipykernel)",
   "language": "python",
   "name": "python3"
  },
  "language_info": {
   "codemirror_mode": {
    "name": "ipython",
    "version": 3
   },
   "file_extension": ".py",
   "mimetype": "text/x-python",
   "name": "python",
   "nbconvert_exporter": "python",
   "pygments_lexer": "ipython3",
   "version": "3.11.4"
  }
 },
 "nbformat": 4,
 "nbformat_minor": 5
}
