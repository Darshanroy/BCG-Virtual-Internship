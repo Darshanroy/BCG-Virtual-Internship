{
 "cells": [
  {
   "cell_type": "code",
   "execution_count": 14,
   "id": "0e0b09a9",
   "metadata": {},
   "outputs": [],
   "source": [
    "import pandas as pd\n",
    "import numpy as np\n",
    "import matplotlib.pyplot as plt"
   ]
  },
  {
   "cell_type": "code",
   "execution_count": 15,
   "id": "02bf52b2",
   "metadata": {},
   "outputs": [],
   "source": [
    "cleaned_data = pd.read_csv('data for analysis/clean_data_after_eda.csv')"
   ]
  },
  {
   "cell_type": "code",
   "execution_count": 16,
   "id": "f61a5314",
   "metadata": {
    "scrolled": true
   },
   "outputs": [
    {
     "name": "stdout",
     "output_type": "stream",
     "text": [
      "<class 'pandas.core.frame.DataFrame'>\n",
      "RangeIndex: 14606 entries, 0 to 14605\n",
      "Data columns (total 44 columns):\n",
      " #   Column                          Non-Null Count  Dtype  \n",
      "---  ------                          --------------  -----  \n",
      " 0   id                              14606 non-null  object \n",
      " 1   channel_sales                   14606 non-null  object \n",
      " 2   cons_12m                        14606 non-null  int64  \n",
      " 3   cons_gas_12m                    14606 non-null  int64  \n",
      " 4   cons_last_month                 14606 non-null  int64  \n",
      " 5   date_activ                      14606 non-null  object \n",
      " 6   date_end                        14606 non-null  object \n",
      " 7   date_modif_prod                 14606 non-null  object \n",
      " 8   date_renewal                    14606 non-null  object \n",
      " 9   forecast_cons_12m               14606 non-null  float64\n",
      " 10  forecast_cons_year              14606 non-null  int64  \n",
      " 11  forecast_discount_energy        14606 non-null  float64\n",
      " 12  forecast_meter_rent_12m         14606 non-null  float64\n",
      " 13  forecast_price_energy_off_peak  14606 non-null  float64\n",
      " 14  forecast_price_energy_peak      14606 non-null  float64\n",
      " 15  forecast_price_pow_off_peak     14606 non-null  float64\n",
      " 16  has_gas                         14606 non-null  object \n",
      " 17  imp_cons                        14606 non-null  float64\n",
      " 18  margin_gross_pow_ele            14606 non-null  float64\n",
      " 19  margin_net_pow_ele              14606 non-null  float64\n",
      " 20  nb_prod_act                     14606 non-null  int64  \n",
      " 21  net_margin                      14606 non-null  float64\n",
      " 22  num_years_antig                 14606 non-null  int64  \n",
      " 23  origin_up                       14606 non-null  object \n",
      " 24  pow_max                         14606 non-null  float64\n",
      " 25  var_year_price_off_peak_var     14606 non-null  float64\n",
      " 26  var_year_price_peak_var         14606 non-null  float64\n",
      " 27  var_year_price_mid_peak_var     14606 non-null  float64\n",
      " 28  var_year_price_off_peak_fix     14606 non-null  float64\n",
      " 29  var_year_price_peak_fix         14606 non-null  float64\n",
      " 30  var_year_price_mid_peak_fix     14606 non-null  float64\n",
      " 31  var_year_price_off_peak         14606 non-null  float64\n",
      " 32  var_year_price_peak             14606 non-null  float64\n",
      " 33  var_year_price_mid_peak         14606 non-null  float64\n",
      " 34  var_6m_price_off_peak_var       14606 non-null  float64\n",
      " 35  var_6m_price_peak_var           14606 non-null  float64\n",
      " 36  var_6m_price_mid_peak_var       14606 non-null  float64\n",
      " 37  var_6m_price_off_peak_fix       14606 non-null  float64\n",
      " 38  var_6m_price_peak_fix           14606 non-null  float64\n",
      " 39  var_6m_price_mid_peak_fix       14606 non-null  float64\n",
      " 40  var_6m_price_off_peak           14606 non-null  float64\n",
      " 41  var_6m_price_peak               14606 non-null  float64\n",
      " 42  var_6m_price_mid_peak           14606 non-null  float64\n",
      " 43  churn                           14606 non-null  int64  \n",
      "dtypes: float64(29), int64(7), object(8)\n",
      "memory usage: 4.9+ MB\n"
     ]
    }
   ],
   "source": [
    "cleaned_data.info()"
   ]
  },
  {
   "cell_type": "code",
   "execution_count": 23,
   "id": "37db7944",
   "metadata": {},
   "outputs": [],
   "source": [
    "#convert to datetime column\n",
    "for col in ['date_activ','date_end','date_modif_prod','date_renewal']:\n",
    "    cleaned_data[col] = pd.to_datetime(cleaned_data[col])"
   ]
  },
  {
   "cell_type": "code",
   "execution_count": 34,
   "id": "c518a675",
   "metadata": {},
   "outputs": [],
   "source": [
    "#tenure column\n",
    "cleaned_data['tenure'] = (cleaned_data['date_end'].dt.year - cleaned_data['date_activ'].dt.year)"
   ]
  },
  {
   "cell_type": "code",
   "execution_count": 35,
   "id": "8ef762d1",
   "metadata": {
    "scrolled": true
   },
   "outputs": [
    {
     "data": {
      "text/plain": [
       "tenure\n",
       "4     3616\n",
       "6     3413\n",
       "7     2959\n",
       "5     2903\n",
       "3     1058\n",
       "11     191\n",
       "8      155\n",
       "12     141\n",
       "10      72\n",
       "9       54\n",
       "13      43\n",
       "2        1\n",
       "Name: count, dtype: int64"
      ]
     },
     "execution_count": 35,
     "metadata": {},
     "output_type": "execute_result"
    }
   ],
   "source": [
    "cleaned_data['tenure'].value_counts()"
   ]
  },
  {
   "cell_type": "markdown",
   "id": "71e0da59",
   "metadata": {},
   "source": [
    "# Encoding"
   ]
  },
  {
   "cell_type": "code",
   "execution_count": 77,
   "id": "0944bfa4",
   "metadata": {},
   "outputs": [
    {
     "data": {
      "text/html": [
       "<div>\n",
       "<style scoped>\n",
       "    .dataframe tbody tr th:only-of-type {\n",
       "        vertical-align: middle;\n",
       "    }\n",
       "\n",
       "    .dataframe tbody tr th {\n",
       "        vertical-align: top;\n",
       "    }\n",
       "\n",
       "    .dataframe thead th {\n",
       "        text-align: right;\n",
       "    }\n",
       "</style>\n",
       "<table border=\"1\" class=\"dataframe\">\n",
       "  <thead>\n",
       "    <tr style=\"text-align: right;\">\n",
       "      <th></th>\n",
       "      <th>id</th>\n",
       "      <th>has_gas</th>\n",
       "      <th>origin_up</th>\n",
       "    </tr>\n",
       "  </thead>\n",
       "  <tbody>\n",
       "    <tr>\n",
       "      <th>0</th>\n",
       "      <td>24011ae4ebbe3035111d65fa7c15bc57</td>\n",
       "      <td>t</td>\n",
       "      <td>lxidpiddsbxsbosboudacockeimpuepw</td>\n",
       "    </tr>\n",
       "    <tr>\n",
       "      <th>1</th>\n",
       "      <td>d29c2c54acc38ff3c0614d0a653813dd</td>\n",
       "      <td>f</td>\n",
       "      <td>kamkkxfxxuwbdslkwifmmcsiusiuosws</td>\n",
       "    </tr>\n",
       "    <tr>\n",
       "      <th>2</th>\n",
       "      <td>764c75f661154dac3a6c254cd082ea7d</td>\n",
       "      <td>f</td>\n",
       "      <td>kamkkxfxxuwbdslkwifmmcsiusiuosws</td>\n",
       "    </tr>\n",
       "    <tr>\n",
       "      <th>3</th>\n",
       "      <td>bba03439a292a1e166f80264c16191cb</td>\n",
       "      <td>f</td>\n",
       "      <td>kamkkxfxxuwbdslkwifmmcsiusiuosws</td>\n",
       "    </tr>\n",
       "    <tr>\n",
       "      <th>4</th>\n",
       "      <td>149d57cf92fc41cf94415803a877cb4b</td>\n",
       "      <td>f</td>\n",
       "      <td>kamkkxfxxuwbdslkwifmmcsiusiuosws</td>\n",
       "    </tr>\n",
       "    <tr>\n",
       "      <th>...</th>\n",
       "      <td>...</td>\n",
       "      <td>...</td>\n",
       "      <td>...</td>\n",
       "    </tr>\n",
       "    <tr>\n",
       "      <th>14601</th>\n",
       "      <td>18463073fb097fc0ac5d3e040f356987</td>\n",
       "      <td>t</td>\n",
       "      <td>lxidpiddsbxsbosboudacockeimpuepw</td>\n",
       "    </tr>\n",
       "    <tr>\n",
       "      <th>14602</th>\n",
       "      <td>d0a6f71671571ed83b2645d23af6de00</td>\n",
       "      <td>f</td>\n",
       "      <td>lxidpiddsbxsbosboudacockeimpuepw</td>\n",
       "    </tr>\n",
       "    <tr>\n",
       "      <th>14603</th>\n",
       "      <td>10e6828ddd62cbcf687cb74928c4c2d2</td>\n",
       "      <td>f</td>\n",
       "      <td>lxidpiddsbxsbosboudacockeimpuepw</td>\n",
       "    </tr>\n",
       "    <tr>\n",
       "      <th>14604</th>\n",
       "      <td>1cf20fd6206d7678d5bcafd28c53b4db</td>\n",
       "      <td>f</td>\n",
       "      <td>lxidpiddsbxsbosboudacockeimpuepw</td>\n",
       "    </tr>\n",
       "    <tr>\n",
       "      <th>14605</th>\n",
       "      <td>563dde550fd624d7352f3de77c0cdfcd</td>\n",
       "      <td>f</td>\n",
       "      <td>ldkssxwpmemidmecebumciepifcamkci</td>\n",
       "    </tr>\n",
       "  </tbody>\n",
       "</table>\n",
       "<p>14606 rows × 3 columns</p>\n",
       "</div>"
      ],
      "text/plain": [
       "                                     id has_gas  \\\n",
       "0      24011ae4ebbe3035111d65fa7c15bc57       t   \n",
       "1      d29c2c54acc38ff3c0614d0a653813dd       f   \n",
       "2      764c75f661154dac3a6c254cd082ea7d       f   \n",
       "3      bba03439a292a1e166f80264c16191cb       f   \n",
       "4      149d57cf92fc41cf94415803a877cb4b       f   \n",
       "...                                 ...     ...   \n",
       "14601  18463073fb097fc0ac5d3e040f356987       t   \n",
       "14602  d0a6f71671571ed83b2645d23af6de00       f   \n",
       "14603  10e6828ddd62cbcf687cb74928c4c2d2       f   \n",
       "14604  1cf20fd6206d7678d5bcafd28c53b4db       f   \n",
       "14605  563dde550fd624d7352f3de77c0cdfcd       f   \n",
       "\n",
       "                              origin_up  \n",
       "0      lxidpiddsbxsbosboudacockeimpuepw  \n",
       "1      kamkkxfxxuwbdslkwifmmcsiusiuosws  \n",
       "2      kamkkxfxxuwbdslkwifmmcsiusiuosws  \n",
       "3      kamkkxfxxuwbdslkwifmmcsiusiuosws  \n",
       "4      kamkkxfxxuwbdslkwifmmcsiusiuosws  \n",
       "...                                 ...  \n",
       "14601  lxidpiddsbxsbosboudacockeimpuepw  \n",
       "14602  lxidpiddsbxsbosboudacockeimpuepw  \n",
       "14603  lxidpiddsbxsbosboudacockeimpuepw  \n",
       "14604  lxidpiddsbxsbosboudacockeimpuepw  \n",
       "14605  ldkssxwpmemidmecebumciepifcamkci  \n",
       "\n",
       "[14606 rows x 3 columns]"
      ]
     },
     "execution_count": 77,
     "metadata": {},
     "output_type": "execute_result"
    }
   ],
   "source": [
    "cleaned_data.select_dtypes(include='object')"
   ]
  },
  {
   "cell_type": "code",
   "execution_count": 66,
   "id": "4e0603c4",
   "metadata": {},
   "outputs": [],
   "source": [
    "\n",
    "#Label encoding\n",
    "channel_sales = ['foosdfpfkusacimwkcsosbicdxkicaua', 'MISSING',\n",
    "       'lmkebamcaaclubfxadlmueccxoimlema',\n",
    "       'usilxuppasemubllopkaafesmlibmsdf',\n",
    "       'ewpakwlliwisiwduibdlfmalxowmwpci',\n",
    "       'epumfxlbckeskwekxbiuasklxalciiuu',\n",
    "       'sddiedcslfslkckwlfkdpoeeailfpeds',\n",
    "       'fixdbufsefwooaasfcxdxadsiekoceaa']\n",
    "\n",
    "label_encoder_4_channel_sales = {item:i for i,item in enumerate(channel_sales)} #creating the dict for label encoding \n",
    "cleaned_data['channel_sales'] = cleaned_data['channel_sales'].map(label_encoder_4_channel_sales)"
   ]
  },
  {
   "cell_type": "code",
   "execution_count": 78,
   "id": "c7ac88a7",
   "metadata": {},
   "outputs": [],
   "source": [
    "\n",
    "#One hot encoding\n",
    "\n",
    "cleaned_data['has_gas'] = cleaned_data['has_gas'].map({'f':0,'t':1})"
   ]
  },
  {
   "cell_type": "code",
   "execution_count": 83,
   "id": "583cebd1",
   "metadata": {},
   "outputs": [],
   "source": [
    "#Label encoding\n",
    "\n",
    "origin_up = ['lxidpiddsbxsbosboudacockeimpuepw',\n",
    "       'kamkkxfxxuwbdslkwifmmcsiusiuosws',\n",
    "       'ldkssxwpmemidmecebumciepifcamkci', 'MISSING',\n",
    "       'usapbepcfoloekilkwsdiboslwaxobdp',\n",
    "       'ewxeelcelemmiwuafmddpobolfuxioce']\n",
    "\n",
    "\n",
    "label_encoder_4_originup = {item:i for i,item in enumerate(origin_up)}\n",
    "cleaned_data['origin_up'] = cleaned_data['origin_up'].map(label_encoder_4_originup)"
   ]
  },
  {
   "cell_type": "code",
   "execution_count": 85,
   "id": "eca2f525",
   "metadata": {},
   "outputs": [
    {
     "name": "stdout",
     "output_type": "stream",
     "text": [
      "<class 'pandas.core.frame.DataFrame'>\n",
      "RangeIndex: 14606 entries, 0 to 14605\n",
      "Data columns (total 45 columns):\n",
      " #   Column                          Non-Null Count  Dtype         \n",
      "---  ------                          --------------  -----         \n",
      " 0   id                              14606 non-null  object        \n",
      " 1   channel_sales                   14606 non-null  int64         \n",
      " 2   cons_12m                        14606 non-null  int64         \n",
      " 3   cons_gas_12m                    14606 non-null  int64         \n",
      " 4   cons_last_month                 14606 non-null  int64         \n",
      " 5   date_activ                      14606 non-null  datetime64[ns]\n",
      " 6   date_end                        14606 non-null  datetime64[ns]\n",
      " 7   date_modif_prod                 14606 non-null  datetime64[ns]\n",
      " 8   date_renewal                    14606 non-null  datetime64[ns]\n",
      " 9   forecast_cons_12m               14606 non-null  float64       \n",
      " 10  forecast_cons_year              14606 non-null  int64         \n",
      " 11  forecast_discount_energy        14606 non-null  float64       \n",
      " 12  forecast_meter_rent_12m         14606 non-null  float64       \n",
      " 13  forecast_price_energy_off_peak  14606 non-null  float64       \n",
      " 14  forecast_price_energy_peak      14606 non-null  float64       \n",
      " 15  forecast_price_pow_off_peak     14606 non-null  float64       \n",
      " 16  has_gas                         14606 non-null  int64         \n",
      " 17  imp_cons                        14606 non-null  float64       \n",
      " 18  margin_gross_pow_ele            14606 non-null  float64       \n",
      " 19  margin_net_pow_ele              14606 non-null  float64       \n",
      " 20  nb_prod_act                     14606 non-null  int64         \n",
      " 21  net_margin                      14606 non-null  float64       \n",
      " 22  num_years_antig                 14606 non-null  int64         \n",
      " 23  origin_up                       14606 non-null  int64         \n",
      " 24  pow_max                         14606 non-null  float64       \n",
      " 25  var_year_price_off_peak_var     14606 non-null  float64       \n",
      " 26  var_year_price_peak_var         14606 non-null  float64       \n",
      " 27  var_year_price_mid_peak_var     14606 non-null  float64       \n",
      " 28  var_year_price_off_peak_fix     14606 non-null  float64       \n",
      " 29  var_year_price_peak_fix         14606 non-null  float64       \n",
      " 30  var_year_price_mid_peak_fix     14606 non-null  float64       \n",
      " 31  var_year_price_off_peak         14606 non-null  float64       \n",
      " 32  var_year_price_peak             14606 non-null  float64       \n",
      " 33  var_year_price_mid_peak         14606 non-null  float64       \n",
      " 34  var_6m_price_off_peak_var       14606 non-null  float64       \n",
      " 35  var_6m_price_peak_var           14606 non-null  float64       \n",
      " 36  var_6m_price_mid_peak_var       14606 non-null  float64       \n",
      " 37  var_6m_price_off_peak_fix       14606 non-null  float64       \n",
      " 38  var_6m_price_peak_fix           14606 non-null  float64       \n",
      " 39  var_6m_price_mid_peak_fix       14606 non-null  float64       \n",
      " 40  var_6m_price_off_peak           14606 non-null  float64       \n",
      " 41  var_6m_price_peak               14606 non-null  float64       \n",
      " 42  var_6m_price_mid_peak           14606 non-null  float64       \n",
      " 43  churn                           14606 non-null  int64         \n",
      " 44  tenure                          14606 non-null  int32         \n",
      "dtypes: datetime64[ns](4), float64(29), int32(1), int64(10), object(1)\n",
      "memory usage: 5.0+ MB\n"
     ]
    }
   ],
   "source": [
    "cleaned_data.info()"
   ]
  },
  {
   "cell_type": "code",
   "execution_count": 95,
   "id": "df6f0133",
   "metadata": {},
   "outputs": [],
   "source": [
    "for col, new_col in zip(list(cleaned_data.select_dtypes(include='datetime64').columns),['month_activ', 'months_to_end', 'months_modif_prod', 'months_renewal']):\n",
    "    cleaned_data[new_col] = cleaned_data[col].dt.month\n",
    "    \n",
    "    \n",
    "cleaned_data.drop(list(cleaned_data.select_dtypes(include='datetime64').columns),inplace=True,axis=1)"
   ]
  },
  {
   "cell_type": "code",
   "execution_count": 96,
   "id": "e5e7f1ed",
   "metadata": {},
   "outputs": [
    {
     "name": "stdout",
     "output_type": "stream",
     "text": [
      "<class 'pandas.core.frame.DataFrame'>\n",
      "RangeIndex: 14606 entries, 0 to 14605\n",
      "Data columns (total 45 columns):\n",
      " #   Column                          Non-Null Count  Dtype  \n",
      "---  ------                          --------------  -----  \n",
      " 0   id                              14606 non-null  object \n",
      " 1   channel_sales                   14606 non-null  int64  \n",
      " 2   cons_12m                        14606 non-null  int64  \n",
      " 3   cons_gas_12m                    14606 non-null  int64  \n",
      " 4   cons_last_month                 14606 non-null  int64  \n",
      " 5   forecast_cons_12m               14606 non-null  float64\n",
      " 6   forecast_cons_year              14606 non-null  int64  \n",
      " 7   forecast_discount_energy        14606 non-null  float64\n",
      " 8   forecast_meter_rent_12m         14606 non-null  float64\n",
      " 9   forecast_price_energy_off_peak  14606 non-null  float64\n",
      " 10  forecast_price_energy_peak      14606 non-null  float64\n",
      " 11  forecast_price_pow_off_peak     14606 non-null  float64\n",
      " 12  has_gas                         14606 non-null  int64  \n",
      " 13  imp_cons                        14606 non-null  float64\n",
      " 14  margin_gross_pow_ele            14606 non-null  float64\n",
      " 15  margin_net_pow_ele              14606 non-null  float64\n",
      " 16  nb_prod_act                     14606 non-null  int64  \n",
      " 17  net_margin                      14606 non-null  float64\n",
      " 18  num_years_antig                 14606 non-null  int64  \n",
      " 19  origin_up                       14606 non-null  int64  \n",
      " 20  pow_max                         14606 non-null  float64\n",
      " 21  var_year_price_off_peak_var     14606 non-null  float64\n",
      " 22  var_year_price_peak_var         14606 non-null  float64\n",
      " 23  var_year_price_mid_peak_var     14606 non-null  float64\n",
      " 24  var_year_price_off_peak_fix     14606 non-null  float64\n",
      " 25  var_year_price_peak_fix         14606 non-null  float64\n",
      " 26  var_year_price_mid_peak_fix     14606 non-null  float64\n",
      " 27  var_year_price_off_peak         14606 non-null  float64\n",
      " 28  var_year_price_peak             14606 non-null  float64\n",
      " 29  var_year_price_mid_peak         14606 non-null  float64\n",
      " 30  var_6m_price_off_peak_var       14606 non-null  float64\n",
      " 31  var_6m_price_peak_var           14606 non-null  float64\n",
      " 32  var_6m_price_mid_peak_var       14606 non-null  float64\n",
      " 33  var_6m_price_off_peak_fix       14606 non-null  float64\n",
      " 34  var_6m_price_peak_fix           14606 non-null  float64\n",
      " 35  var_6m_price_mid_peak_fix       14606 non-null  float64\n",
      " 36  var_6m_price_off_peak           14606 non-null  float64\n",
      " 37  var_6m_price_peak               14606 non-null  float64\n",
      " 38  var_6m_price_mid_peak           14606 non-null  float64\n",
      " 39  churn                           14606 non-null  int64  \n",
      " 40  tenure                          14606 non-null  int32  \n",
      " 41  month_activ                     14606 non-null  int32  \n",
      " 42  months_to_end                   14606 non-null  int32  \n",
      " 43  months_modif_prod               14606 non-null  int32  \n",
      " 44  months_renewal                  14606 non-null  int32  \n",
      "dtypes: float64(29), int32(5), int64(10), object(1)\n",
      "memory usage: 4.7+ MB\n"
     ]
    }
   ],
   "source": [
    "cleaned_data.info()"
   ]
  },
  {
   "cell_type": "code",
   "execution_count": 98,
   "id": "984393f8",
   "metadata": {},
   "outputs": [],
   "source": [
    "cleaned_data.to_csv('FE_complted.csv',index=False)"
   ]
  }
 ],
 "metadata": {
  "kernelspec": {
   "display_name": "Python 3 (ipykernel)",
   "language": "python",
   "name": "python3"
  },
  "language_info": {
   "codemirror_mode": {
    "name": "ipython",
    "version": 3
   },
   "file_extension": ".py",
   "mimetype": "text/x-python",
   "name": "python",
   "nbconvert_exporter": "python",
   "pygments_lexer": "ipython3",
   "version": "3.11.4"
  }
 },
 "nbformat": 4,
 "nbformat_minor": 5
}
